{
  "nbformat": 4,
  "nbformat_minor": 0,
  "metadata": {
    "colab": {
      "name": "Calepin_Bilan_Projet_ML.ipynb",
      "provenance": [],
      "collapsed_sections": [
        "MhwRMSZ-UQUL",
        "JqDekbOLXr9r"
      ]
    },
    "kernelspec": {
      "name": "python3",
      "display_name": "Python 3"
    },
    "language_info": {
      "name": "python"
    }
  },
  "cells": [
    {
      "cell_type": "markdown",
      "source": [
        "Réalisé par le groupe : Abla Amharref (GL), Roland Bertin-Johannet (Imagine), Tom Bros (GL), Rihab Haoulani (GL), Manon Ramaroson (IASD)"
      ],
      "metadata": {
        "id": "wG5xBY8jSdJt"
      }
    },
    {
      "cell_type": "markdown",
      "source": [
        "# Introduction"
      ],
      "metadata": {
        "id": "ZK-kgGa4S9f1"
      }
    },
    {
      "cell_type": "markdown",
      "source": [
        "Dans ce notebook, vous pourrez retrouver un bilan de nos expérimentions sur la détection de fake news. Nous avons fait le choix de ne présenter que les prétraitements et classifications dont les résultats obtenus étaient les plus positifs. \n",
        "\n",
        "Nous avons divisé ce notebook en plusieurs sections : \n",
        "- Initialisation : comprend les  importations de base et la connexion à notre drive.\n",
        "- Données : nous chargeons les données et les équilibrons.\n",
        "- Ingénierie des données : contient la définition de la fonction *preprocess*, ainsi que l'application des meilleurs prétraitements trouvés.\n",
        "- Méthodes Traditionnelles : nous montrons les classifications les plus satisfaisantes que nous avons pu tester avec les méthodes de classification traditionnelles.\n",
        "- Deep Learning : nous reproduirons nos résultats avec l'avec l'approche Deep Learning."
      ],
      "metadata": {
        "id": "l9lK2yYhn84o"
      }
    },
    {
      "cell_type": "markdown",
      "source": [
        "# Initialisation"
      ],
      "metadata": {
        "id": "If38y2OtUrYL"
      }
    },
    {
      "cell_type": "code",
      "source": [
        "!pip install umap-learn"
      ],
      "metadata": {
        "id": "pd0olb39Uwt7",
        "colab": {
          "base_uri": "https://localhost:8080/"
        },
        "outputId": "9cd80624-930e-43fe-b42a-dbcc868e1834"
      },
      "execution_count": 1,
      "outputs": [
        {
          "output_type": "stream",
          "name": "stdout",
          "text": [
            "Requirement already satisfied: umap-learn in /usr/local/lib/python3.7/dist-packages (0.5.3)\n",
            "Requirement already satisfied: tqdm in /usr/local/lib/python3.7/dist-packages (from umap-learn) (4.64.0)\n",
            "Requirement already satisfied: numpy>=1.17 in /usr/local/lib/python3.7/dist-packages (from umap-learn) (1.21.6)\n",
            "Requirement already satisfied: numba>=0.49 in /usr/local/lib/python3.7/dist-packages (from umap-learn) (0.51.2)\n",
            "Requirement already satisfied: scikit-learn>=0.22 in /usr/local/lib/python3.7/dist-packages (from umap-learn) (1.0.2)\n",
            "Requirement already satisfied: pynndescent>=0.5 in /usr/local/lib/python3.7/dist-packages (from umap-learn) (0.5.7)\n",
            "Requirement already satisfied: scipy>=1.0 in /usr/local/lib/python3.7/dist-packages (from umap-learn) (1.4.1)\n",
            "Requirement already satisfied: setuptools in /usr/local/lib/python3.7/dist-packages (from numba>=0.49->umap-learn) (57.4.0)\n",
            "Requirement already satisfied: llvmlite<0.35,>=0.34.0.dev0 in /usr/local/lib/python3.7/dist-packages (from numba>=0.49->umap-learn) (0.34.0)\n",
            "Requirement already satisfied: joblib>=0.11 in /usr/local/lib/python3.7/dist-packages (from pynndescent>=0.5->umap-learn) (1.1.0)\n",
            "Requirement already satisfied: threadpoolctl>=2.0.0 in /usr/local/lib/python3.7/dist-packages (from scikit-learn>=0.22->umap-learn) (3.1.0)\n"
          ]
        }
      ]
    },
    {
      "cell_type": "code",
      "source": [
        "# Importation des différentes librairies, classes et fonctions utilespour le notebook\n",
        "\n",
        "#Sickit learn met régulièrement à jour des versions et \n",
        "#indique des futurs warnings. \n",
        "#ces deux lignes permettent de ne pas les afficher.\n",
        "import warnings\n",
        "warnings.filterwarnings(\"ignore\", category=FutureWarning)\n",
        "\n",
        "\n",
        "# librairies générales\n",
        "import pandas as pd\n",
        "import re\n",
        "from tabulate import tabulate\n",
        "import time\n",
        "import numpy as np\n",
        "import pickle\n",
        "import string\n",
        "import base64\n",
        "import sys\n",
        "\n",
        "# librairie affichage\n",
        "import matplotlib.pyplot as plt\n",
        "import seaborn as sns\n",
        "from mlxtend.plotting import plot_decision_regions\n",
        "import matplotlib.gridspec as gridspec\n",
        "import itertools\n",
        "\n",
        "# librairies scikit learn\n",
        "import sklearn\n",
        "from sklearn.feature_extraction.text import CountVectorizer\n",
        "from sklearn.feature_extraction.text import TfidfVectorizer\n",
        "from sklearn.base import TransformerMixin\n",
        "from sklearn.base import clone\n",
        "from sklearn.pipeline import Pipeline\n",
        "from sklearn.pipeline import make_pipeline\n",
        "from sklearn.model_selection import train_test_split\n",
        "from sklearn import metrics\n",
        "from sklearn.model_selection import cross_val_score\n",
        "from sklearn.metrics import confusion_matrix\n",
        "from sklearn.metrics import classification_report\n",
        "from sklearn.model_selection import KFold\n",
        "from sklearn.model_selection import GridSearchCV\n",
        "from sklearn.metrics import accuracy_score\n",
        "\n",
        "\n",
        "# librairies des classifiers utilisés\n",
        "from sklearn.svm import SVC\n",
        "from sklearn.linear_model import LogisticRegression\n",
        "from sklearn.tree import DecisionTreeClassifier\n",
        "from sklearn.neighbors import KNeighborsClassifier\n",
        "from sklearn.naive_bayes import MultinomialNB\n",
        "from sklearn.ensemble import RandomForestClassifier\n",
        "\n",
        "# librairies NLTK\n",
        "import nltk\n",
        "from nltk.stem import WordNetLemmatizer\n",
        "from nltk.stem import PorterStemmer \n",
        "from nltk.corpus import stopwords\n",
        "from nltk import word_tokenize \n",
        "\n",
        "# UMAP\n",
        "import plotly.express as px\n",
        "from sklearn.datasets import load_digits\n",
        "from umap import UMAP\n",
        "\n",
        "# PCA\n",
        "from sklearn.decomposition import PCA\n",
        "import plotly.express as px\n",
        "\n",
        " # stop-words\n",
        "nltk.download('wordnet')\n",
        "nltk.download('stopwords')\n",
        "nltk.download('punkt')\n",
        "stop_words = set(stopwords.words('english')) "
      ],
      "metadata": {
        "colab": {
          "base_uri": "https://localhost:8080/"
        },
        "id": "6q-rJEb_VkCU",
        "outputId": "40f36f81-b2e3-4194-bd30-ad6a3cdd7b5a"
      },
      "execution_count": 2,
      "outputs": [
        {
          "output_type": "stream",
          "name": "stdout",
          "text": [
            "[nltk_data] Downloading package wordnet to /root/nltk_data...\n",
            "[nltk_data]   Package wordnet is already up-to-date!\n",
            "[nltk_data] Downloading package stopwords to /root/nltk_data...\n",
            "[nltk_data]   Package stopwords is already up-to-date!\n",
            "[nltk_data] Downloading package punkt to /root/nltk_data...\n",
            "[nltk_data]   Package punkt is already up-to-date!\n"
          ]
        }
      ]
    },
    {
      "cell_type": "code",
      "source": [
        "# pour monter son drive Google Drive local\n",
        "from google.colab import drive\n",
        "drive.mount('/content/gdrive')"
      ],
      "metadata": {
        "colab": {
          "base_uri": "https://localhost:8080/"
        },
        "id": "5Dqx9LfmWAZd",
        "outputId": "634c781b-8671-425a-97ea-ef9edb7db670"
      },
      "execution_count": 3,
      "outputs": [
        {
          "output_type": "stream",
          "name": "stdout",
          "text": [
            "Drive already mounted at /content/gdrive; to attempt to forcibly remount, call drive.mount(\"/content/gdrive\", force_remount=True).\n"
          ]
        }
      ]
    },
    {
      "cell_type": "code",
      "source": [
        "my_local_drive='/content/gdrive/My Drive/machine_learning'\n",
        "# Ajout du path pour les librairies, fonctions et données\n",
        "sys.path.append(my_local_drive)\n",
        "# Se positionner sur le répertoire associé\n",
        "%cd $my_local_drive\n",
        "\n",
        "%pwd"
      ],
      "metadata": {
        "colab": {
          "base_uri": "https://localhost:8080/",
          "height": 52
        },
        "id": "VWhvIRC8XBd0",
        "outputId": "b66f035a-13ed-4061-daf2-6b967fa27ef0"
      },
      "execution_count": 4,
      "outputs": [
        {
          "output_type": "stream",
          "name": "stdout",
          "text": [
            "/content/gdrive/My Drive/machine_learning\n"
          ]
        },
        {
          "output_type": "execute_result",
          "data": {
            "text/plain": [
              "'/content/gdrive/My Drive/machine_learning'"
            ],
            "application/vnd.google.colaboratory.intrinsic+json": {
              "type": "string"
            }
          },
          "metadata": {},
          "execution_count": 4
        }
      ]
    },
    {
      "cell_type": "code",
      "source": [
        "# fonctions utilities (affichage, confusion, etc.)\n",
        "from MyNLPUtilities import *"
      ],
      "metadata": {
        "id": "Wd6vpznTXFrX"
      },
      "execution_count": 5,
      "outputs": []
    },
    {
      "cell_type": "markdown",
      "source": [
        "# Données"
      ],
      "metadata": {
        "id": "MhwRMSZ-UQUL"
      }
    },
    {
      "cell_type": "markdown",
      "source": [
        "Chargement des données."
      ],
      "metadata": {
        "id": "gkkUfYmAcxKk"
      }
    },
    {
      "cell_type": "code",
      "source": [
        "df = pd.read_csv(\"claimskg_result.csv\")"
      ],
      "metadata": {
        "id": "BQrmQFedXgpE"
      },
      "execution_count": 6,
      "outputs": []
    },
    {
      "cell_type": "markdown",
      "source": [
        "Equilibrage des données : on réalise de l'undersampling sur la classe faux."
      ],
      "metadata": {
        "id": "e_HfLfRsifZc"
      }
    },
    {
      "cell_type": "code",
      "source": [
        "group = df.groupby('truthRating')\n",
        "vrai = group.get_group(3)\n",
        "faux = group.get_group(1)\n",
        "faux = faux.sample(len(vrai))\n",
        "vrai = vrai.sample(len(vrai))\n",
        "df = pd.concat([vrai, faux]).reset_index()"
      ],
      "metadata": {
        "id": "i48ByW2-iogk"
      },
      "execution_count": 7,
      "outputs": []
    },
    {
      "cell_type": "markdown",
      "source": [
        "On peut voir ci-dessous que nous avons à présent autant de vrais (3) que de faux (1)."
      ],
      "metadata": {
        "id": "7iiZKsGFj185"
      }
    },
    {
      "cell_type": "code",
      "source": [
        "df.truthRating.value_counts()"
      ],
      "metadata": {
        "colab": {
          "base_uri": "https://localhost:8080/"
        },
        "id": "YN8IsCTdjUXB",
        "outputId": "16339e19-bcd9-42e1-9b95-89f349716659"
      },
      "execution_count": 8,
      "outputs": [
        {
          "output_type": "execute_result",
          "data": {
            "text/plain": [
              "3    2634\n",
              "1    2634\n",
              "Name: truthRating, dtype: int64"
            ]
          },
          "metadata": {},
          "execution_count": 8
        }
      ]
    },
    {
      "cell_type": "markdown",
      "source": [
        "# Ingénierie des données"
      ],
      "metadata": {
        "id": "JqDekbOLXr9r"
      }
    },
    {
      "cell_type": "markdown",
      "source": [
        "La fonction *preprocess*, est une fonction de prétraitement qui prend en argument : \n",
        "- les données à traiter\n",
        "- des booléens pour marquer le retrait des nombres, le retrait des stopwords, appliquer le stemming, retirer la ponctuation, ajouter les auteurs, ajouter les dates ou ajouter les sources.\n",
        "\n",
        "Elle retourne :\n",
        "- les données sur lesquelles on a appliqué le prétraitement. "
      ],
      "metadata": {
        "id": "aWUfqZG0XaLF"
      }
    },
    {
      "cell_type": "code",
      "source": [
        "def preprocess(data,\n",
        "               remove_nums=False,\n",
        "               remove_stopwords=False,\n",
        "               apply_stemming=False,\n",
        "               remove_punc=False,\n",
        "               add_authors=False,\n",
        "               add_dates=False,\n",
        "               add_sources=False):\n",
        "  #pour récupérer d'autres colonnes plus tard\n",
        "  cp = data.copy()\n",
        "\n",
        "  data = data.text.values\n",
        "  if remove_nums:\n",
        "    nonums=[]\n",
        "    for i in range(len(data)):\n",
        "      nonums.append(\" \".join([word for word in data[i].split() if not word.isnumeric()]))\n",
        "    nonums=[str(val) for val in nonums]\n",
        "    data=nonums\n",
        "\n",
        "  #tokenisation\n",
        "  data = pd.DataFrame([word_tokenize(doc) for doc in data])\n",
        "\n",
        "  if remove_stopwords:\n",
        "    #retirer stop words\n",
        "    stop = list(stopwords.words(\"english\"))\n",
        "    nostop = []\n",
        "    for i in range(len(data)):\n",
        "      doc = data.iloc[i]\n",
        "      nostop.append([word for word in doc if word not in stop])\n",
        "    data = pd.DataFrame(nostop)\n",
        "\n",
        "  if apply_stemming:\n",
        "    #stemming\n",
        "    ps=nltk.stem.porter.PorterStemmer()\n",
        "\n",
        "    stemmed = []\n",
        "    for i in range(len(data)):\n",
        "      doc = data.iloc[i]\n",
        "      stemmed.append([ps.stem(word) for word in doc if word!=None])\n",
        "    data = pd.DataFrame(stemmed)\n",
        "\n",
        "  if remove_punc:\n",
        "    #retirer ponctuation\n",
        "    import string\n",
        "\n",
        "    nopunc = []\n",
        "    for i in range(len(data)):\n",
        "      doc = data.iloc[i]\n",
        "      nopunc.append([word for word in doc if word!=None and word not in string.punctuation])\n",
        "    data = pd.DataFrame(nopunc)\n",
        "\n",
        "\n",
        "  #réassemblage\n",
        "  docs = []\n",
        "  for i in range(len(data)):\n",
        "    doc = data.iloc[i]\n",
        "    docs.append(\" \".join([word for word in doc if word!=None]))\n",
        "  docs = pd.Series(docs)\n",
        "\n",
        "\n",
        "  #TFIDF\n",
        "  tv = TfidfVectorizer(ngram_range=(1,3), max_features=5000)\n",
        "  X = tv.fit_transform(docs)\n",
        "\n",
        "  #ajout des auteurs, de la date et de la source :\n",
        "  #get_dummies fait du one-hot-encoding\n",
        "    \n",
        "  if add_authors:\n",
        "    authors = pd.get_dummies(cp['author']).values\n",
        "    X = np.hstack([X.toarray(), authors])\n",
        "\n",
        "  if add_dates:\n",
        "    authors = pd.get_dummies(cp['source']).values\n",
        "    #nécessaire car on ne sait pas si add_authors a déjà changé X en np array\n",
        "    xarray = X if add_authors else X.toarray()\n",
        "    X = np.hstack([xarray, authors])\n",
        "\n",
        "  if add_sources:\n",
        "    authors = pd.get_dummies(cp['date']).values\n",
        "    xarray = X if add_authors or add_dates else X.toarray()\n",
        "    X = np.hstack([xarray, authors])\n",
        "\n",
        "  #même idée\n",
        "  Xret = X.toarray() if not add_authors and not add_dates and not add_sources else X\n",
        "\n",
        "  return Xret, tv.get_feature_names()"
      ],
      "metadata": {
        "id": "QablTFUyXZFN"
      },
      "execution_count": 9,
      "outputs": []
    },
    {
      "cell_type": "markdown",
      "source": [
        "## Prétraitements ayant un effet positif sur nos classifications"
      ],
      "metadata": {
        "id": "HvwX6D7tbdG3"
      }
    },
    {
      "cell_type": "markdown",
      "source": [
        "Nous appliquons le retrait de la ponctuation :"
      ],
      "metadata": {
        "id": "HL7a80yFctOF"
      }
    },
    {
      "cell_type": "code",
      "source": [
        "nopunc = []\n",
        "for i in range(len(df.text)):\n",
        "  doc = df.text.iloc[i]\n",
        "  nopunc.append(\"\".join([word for word in doc if word!=None and word not in string.punctuation]))"
      ],
      "metadata": {
        "id": "rn08F0emdG3V"
      },
      "execution_count": 10,
      "outputs": []
    },
    {
      "cell_type": "markdown",
      "source": [
        "Montrons les premiers éléments de nos données après le retrait de la ponctuation :"
      ],
      "metadata": {
        "id": "6P5PLUEUfzTQ"
      }
    },
    {
      "cell_type": "code",
      "source": [
        "nopunc[0:5]"
      ],
      "metadata": {
        "colab": {
          "base_uri": "https://localhost:8080/"
        },
        "id": "mb6V-OLLfqj9",
        "outputId": "cb5d2923-a9ca-4cdf-c643-4c37f3c814d1"
      },
      "execution_count": 11,
      "outputs": [
        {
          "output_type": "execute_result",
          "data": {
            "text/plain": [
              "['Today if you were raised poor you’re just as likely to stay poor as you were 50 years ago',\n",
              " 'Yes health data shows that South Africans drink the most in Africa  Africa Check',\n",
              " 'A bank issued a credit card to a tree',\n",
              " 'Snitker has been virtually ignored by the major media',\n",
              " 'One out of 10 minimumwage workers in the US live in Texas']"
            ]
          },
          "metadata": {},
          "execution_count": 11
        }
      ]
    },
    {
      "cell_type": "markdown",
      "source": [
        "Dans la cellule suivante, en utilisant TfidfVectorizer nous réalisons les prétraitements suivants : \n",
        "- Vectorisation des phrases\n",
        "- Retrait des stop-words\n",
        "- Conservation des majuscules"
      ],
      "metadata": {
        "id": "_OWujJvdbmsO"
      }
    },
    {
      "cell_type": "code",
      "source": [
        "tv = TfidfVectorizer(stop_words='english', lowercase=False)\n",
        "\n",
        "X = tv.fit_transform(nopunc)"
      ],
      "metadata": {
        "id": "iZfwsIYlbmJO"
      },
      "execution_count": 12,
      "outputs": []
    },
    {
      "cell_type": "markdown",
      "source": [
        "# Méthodes Traditionnelles"
      ],
      "metadata": {
        "id": "7SIHQFoEUW2j"
      }
    },
    {
      "cell_type": "markdown",
      "source": [
        "utilise les données précédentes avec un traintestsplit"
      ],
      "metadata": {
        "id": "JmS1oUxpbMlc"
      }
    },
    {
      "cell_type": "markdown",
      "source": [
        "La fonction *launchExperimentations* est une méthode qui permet de lancer plusieurs classificateurs sur un même jeu de données. Elle prend en argument :\n",
        "- Une liste de classificateurs\n",
        "- Un jeu de données\n",
        "\n",
        "Elle retourne un dataframe qui indique pour chaque classificateur et chaque combinaison de prétraitements : \n",
        "- l'exactitude\n",
        "- la précision (une moyenne sur les deux classes)\n",
        "- le rappel (une moyenne sur les deux classes)\n",
        "- le f-score"
      ],
      "metadata": {
        "id": "PN1iCqOSZGZD"
      }
    },
    {
      "cell_type": "code",
      "source": [
        "\n",
        "def launchExperimentations(clf_list, df):\n",
        "  results = pd.DataFrame()\n",
        "  clfs=[]\n",
        "  nums=[]\n",
        "  stop=[]\n",
        "  stem=[]\n",
        "  punc=[]\n",
        "  authors=[]\n",
        "  dates=[]\n",
        "  sources=[]\n",
        "  \n",
        "  f1score=[]\n",
        "  accuracy=[]\n",
        "  precision=[]\n",
        "  recall=[]\n",
        "  \n",
        "  for key,clf in clf_list:\n",
        "    for remove_nums in [True,False]:\n",
        "      for remove_stopwords in [True,False]:\n",
        "        for apply_stemming in [True,False]:\n",
        "          for remove_punc in [True,False]:\n",
        "            for add_authors in [True,False]:\n",
        "              for add_dates in [True,False]:\n",
        "                for add_sources in [True,False]:\n",
        "                  data,_=preprocess(df, remove_nums,\n",
        "                                        remove_stopwords,\n",
        "                                        apply_stemming,\n",
        "                                        remove_punc,\n",
        "                                        add_authors,\n",
        "                                        add_dates,\n",
        "                                        add_sources)\n",
        "                  clf = clone(clf)\n",
        "                  clfs.append(key)\n",
        "                  nums.append(remove_nums)\n",
        "                  stop.append(remove_stopwords)\n",
        "                  stem.append(apply_stemming)\n",
        "                  punc.append(remove_punc)\n",
        "                  authors.append(add_authors)\n",
        "                  sources.append(add_sources)\n",
        "                  dates.append(add_dates)\n",
        "                  \n",
        "                  sc = getScores(clf, data, df['truthRating'])\n",
        "                  f1score.append(sc['f1_score'][0])\n",
        "                  recall.append(sc['recall'][0])\n",
        "                  accuracy.append(sc['accuracy'][0])\n",
        "                  precision.append(sc['precision'][0])\n",
        "                                   \n",
        "  results['classifieur']=clfs\n",
        "  results['nums']=nums\n",
        "  results['stop']=stop\n",
        "  results['stem']=stem\n",
        "  results['punc']=punc\n",
        "  results['authors']=authors\n",
        "  results['sources']=sources\n",
        "  results['dates']=dates\n",
        "  results['accuracy']=accuracy\n",
        "  results['precision']=precision\n",
        "  results['recall']=recall\n",
        "  results['f1score']=f1score\n",
        "  return results"
      ],
      "metadata": {
        "id": "dyqqCRecY8SN"
      },
      "execution_count": 13,
      "outputs": []
    },
    {
      "cell_type": "markdown",
      "source": [
        "## Classification avec LogisticRegression"
      ],
      "metadata": {
        "id": "h772ik1OhjCt"
      }
    },
    {
      "cell_type": "code",
      "source": [
        "lr = LogisticRegression()\n",
        "cv = cross_val_score(lr, X, df.truthRating, cv=10)\n",
        "print(np.mean(cv))"
      ],
      "metadata": {
        "colab": {
          "base_uri": "https://localhost:8080/"
        },
        "id": "zfqdfB85hjWt",
        "outputId": "3c3f73fb-853b-4ddd-fd43-db8ddb38338e"
      },
      "execution_count": 14,
      "outputs": [
        {
          "output_type": "stream",
          "name": "stdout",
          "text": [
            "0.6408521583538358\n"
          ]
        }
      ]
    },
    {
      "cell_type": "markdown",
      "source": [
        "Affichage de la matrice de confusion sur une prédiction avec Logistic Regression."
      ],
      "metadata": {
        "id": "_eM4IBPexk_a"
      }
    },
    {
      "cell_type": "code",
      "source": [
        "#prédiction\n",
        "x_train, x_test, y_train, y_test = train_test_split(X, df.truthRating.values,train_size=0.7,\n",
        "                                               test_size=0.3, shuffle=True)\n",
        "lr.fit(x_train, y_train)\n",
        "pred=lr.predict(x_test)\n",
        "#vp : on a dit 1 et c'est 1.\n",
        "#fp : on a dit 1 et c'est 0. etc....\n",
        "vp=0\n",
        "vn=0\n",
        "fp=0\n",
        "fn=0\n",
        "for i in range(pred.shape[0]):\n",
        "    if pred[i]==1:\n",
        "        if y_test[i]==1:\n",
        "            vn=vn+1\n",
        "        else:\n",
        "            fn=fn+1\n",
        "    elif pred[i]==3:\n",
        "        if y_test[i]==3:\n",
        "            vp=vp+1\n",
        "        else:\n",
        "            fp=fp+1\n",
        "from sklearn.metrics import confusion_matrix, ConfusionMatrixDisplay\n",
        "cm = confusion_matrix(y_test, \n",
        "                      pred,\n",
        "                      labels=[1,3])\n",
        "disp = ConfusionMatrixDisplay(confusion_matrix=cm, display_labels=[\"faux\",\"vrai\"])\n",
        "disp.plot()"
      ],
      "metadata": {
        "colab": {
          "base_uri": "https://localhost:8080/",
          "height": 296
        },
        "id": "QnQ0LZzcue5Q",
        "outputId": "9d9b25e1-1980-4f21-e2d6-79e5f2e46ebb"
      },
      "execution_count": 15,
      "outputs": [
        {
          "output_type": "execute_result",
          "data": {
            "text/plain": [
              "<sklearn.metrics._plot.confusion_matrix.ConfusionMatrixDisplay at 0x7f585f40f650>"
            ]
          },
          "metadata": {},
          "execution_count": 15
        },
        {
          "output_type": "display_data",
          "data": {
            "text/plain": [
              "<Figure size 432x288 with 2 Axes>"
            ],
            "image/png": "[encoded data removed]"
          },
          "metadata": {
            "needs_background": "light"
          }
        }
      ]
    },
    {
      "cell_type": "markdown",
      "source": [
        "## Classification avec SVM"
      ],
      "metadata": {
        "id": "bp-muTAVkcLM"
      }
    },
    {
      "cell_type": "markdown",
      "source": [
        "Pour SVM, nous réalisons le prétraitement qui a le mieux fonctionné sur nos classifications en utilisant la fonction *preprocess* : \n",
        "- Retrait des stop-words\n",
        "- Retrait de la ponctuation\n",
        "\n",
        "Cette combinaison de prétraitements a été obtenue grâce à la fonction *launchExperimentations*."
      ],
      "metadata": {
        "id": "fzmA727elNTH"
      }
    },
    {
      "cell_type": "code",
      "source": [
        "X, _= preprocess(df, remove_nums=False, remove_stopwords=True, remove_punc=True, add_authors=True, add_dates=True, add_sources=False)"
      ],
      "metadata": {
        "id": "BqoOeB-dlK9M"
      },
      "execution_count": 16,
      "outputs": []
    },
    {
      "cell_type": "markdown",
      "source": [
        "Ci-dessous une classification avec SVM. Les paramètres pris en entrées ont été calculés grâce à une gridsearch."
      ],
      "metadata": {
        "id": "1b5hLUNpk363"
      }
    },
    {
      "cell_type": "code",
      "source": [
        "svm = SVC(C=10, gamma=0.01, kernel='rbf')\n",
        "cv = cross_val_score(svm, X, df.truthRating, cv=10)\n",
        "print(np.mean(cv))"
      ],
      "metadata": {
        "colab": {
          "base_uri": "https://localhost:8080/"
        },
        "id": "eiu2ZDo5kbWy",
        "outputId": "27bc5077-3486-453e-ba18-89d0b7e0c81d"
      },
      "execution_count": 17,
      "outputs": [
        {
          "output_type": "stream",
          "name": "stdout",
          "text": [
            "0.6340242855390654\n"
          ]
        }
      ]
    },
    {
      "cell_type": "markdown",
      "source": [
        "# Deep Learning"
      ],
      "metadata": {
        "id": "yghfryErUi0D"
      }
    },
    {
      "cell_type": "markdown",
      "source": [
        "Initialisation de l'environnement pour le Deep Learning."
      ],
      "metadata": {
        "id": "i_ZfIs4rzEo2"
      }
    },
    {
      "cell_type": "code",
      "source": [
        "# -*- coding: utf-8 -*-\n",
        "\"\"\"\n",
        "Created on Wed May 11 23:05:25 2022\n",
        "\n",
        "@author: Orlando\n",
        "\"\"\"\n",
        "\n",
        "import sys\n",
        "import numpy as np\n",
        "import pandas as pd\n",
        "import tensorflow as tf\n",
        "from tensorflow import keras\n",
        "from tensorflow.keras.models import Sequential\n",
        "from tensorflow.keras.layers import Dense\n",
        "from tensorflow.keras.layers import Dropout\n",
        "from tensorflow.keras.layers import LSTM\n",
        "from tensorflow.keras.layers import Flatten\n",
        "from tensorflow.keras.layers import Embedding\n",
        "from tensorflow.keras.callbacks import ModelCheckpoint\n",
        "from tensorflow.keras.preprocessing.text import Tokenizer\n",
        "from tensorflow.keras.preprocessing.sequence import pad_sequences\n",
        "from keras.utils import np_utils\n",
        "\n",
        "import nltk\n",
        "nltk.download('punkt')\n",
        "from nltk import word_tokenize\n",
        "\n",
        "nltk.download(\"stopwords\")\n",
        "from nltk.corpus import stopwords\n",
        "stop = list(stopwords.words(\"english\"))\n",
        "\n",
        "from sklearn.model_selection import train_test_split\n",
        "\n",
        "import string"
      ],
      "metadata": {
        "colab": {
          "base_uri": "https://localhost:8080/"
        },
        "id": "HuOBa2xOV9CH",
        "outputId": "e13a89b2-81e2-4fc4-8546-f78ce131172f"
      },
      "execution_count": 18,
      "outputs": [
        {
          "output_type": "stream",
          "name": "stdout",
          "text": [
            "[nltk_data] Downloading package punkt to /root/nltk_data...\n",
            "[nltk_data]   Package punkt is already up-to-date!\n",
            "[nltk_data] Downloading package stopwords to /root/nltk_data...\n",
            "[nltk_data]   Package stopwords is already up-to-date!\n"
          ]
        }
      ]
    },
    {
      "cell_type": "markdown",
      "source": [
        "Chargement des données, le *max_tokens* représente la taille autorisée du vocabulaire.\n",
        "\n",
        "\n",
        "\n"
      ],
      "metadata": {
        "id": "YRByhYXFhIFW"
      }
    },
    {
      "cell_type": "code",
      "source": [
        "max_tokens = 1000\n",
        "\n",
        "textdf = pd.read_csv(\"claimskg_result.csv\")\n",
        "textdf.head()"
      ],
      "metadata": {
        "colab": {
          "base_uri": "https://localhost:8080/",
          "height": 739
        },
        "id": "fp8bq28QhEBJ",
        "outputId": "0b6ef4a8-2d10-477c-c887-5147dbc99614"
      },
      "execution_count": 19,
      "outputs": [
        {
          "output_type": "execute_result",
          "data": {
            "text/plain": [
              "                                                  id  \\\n",
              "0  http://data.gesis.org/claimskg/claim_review/b0...   \n",
              "1  http://data.gesis.org/claimskg/claim_review/03...   \n",
              "2  http://data.gesis.org/claimskg/claim_review/e1...   \n",
              "3  http://data.gesis.org/claimskg/claim_review/3c...   \n",
              "4  http://data.gesis.org/claimskg/claim_review/b4...   \n",
              "\n",
              "                                                text     date  truthRating  \\\n",
              "0  GOP presidential candidate Ted Cruz ran a 'Net...  Unknown            1   \n",
              "1  A woman managed to call 911 during a domestic ...  Unknown            1   \n",
              "2  The California Department of Public Health has...  Unknown            1   \n",
              "3  Michelle Obama gorged herself on an expensive ...  Unknown            1   \n",
              "4  A child injured his arm through extended weari...  Unknown            3   \n",
              "\n",
              "   ratingName   author                                           headline  \\\n",
              "0       False  Unknown  Ted Cruz Doesn’t Want to ‘Netflix and Chill’ w...   \n",
              "1       False  Unknown  In Case of Intruder, Should You Ask 911 for a ...   \n",
              "2       False  Unknown                                    Measles Parties   \n",
              "3       False  Unknown                    Michelle Obama and Room Service   \n",
              "4        True  Unknown                                 Silly Bandz Danger   \n",
              "\n",
              "                                named_entities_claim  \\\n",
              "0  Netflix,Netflix and Chill,Republican,Ted Cruz,...   \n",
              "1  BuzzFeed,Reddit,Reddit gold,Super Bowl,Super B...   \n",
              "2  ABCNews.com,California Department of Public He...   \n",
              "3  2008.   Democratic presidential nominee,Alfred...   \n",
              "4  Associated Press,Bonkers,Facebook,Herendeen,Ne...   \n",
              "\n",
              "                              named_entities_article  \\\n",
              "0                         Netflix and Chill,Ted Cruz   \n",
              "1                                                NaN   \n",
              "2     California Department of Public Health,measles   \n",
              "3  Michelle Obama,Waldorf-Astoria hotel,room service   \n",
              "4                                        Silly Bandz   \n",
              "\n",
              "                           keywords  source              sourceURL  \\\n",
              "0                politics, ted cruz  snopes  http://www.snopes.com   \n",
              "1      911 calls, domestic violence  snopes  http://www.snopes.com   \n",
              "2                       ASP Article  snopes  http://www.snopes.com   \n",
              "3         ASP Article, barack obama  snopes  http://www.snopes.com   \n",
              "4  ASP Article, Parental Nightmares  snopes  http://www.snopes.com   \n",
              "\n",
              "                                                link language  \n",
              "0  https://www.snopes.com/fact-check/ted-cruz-net...  English  \n",
              "1  https://www.snopes.com/fact-check/case-intrude...  English  \n",
              "2   https://www.snopes.com/fact-check/party-scarred/  English  \n",
              "3  https://www.snopes.com/fact-check/room-for-error/  English  \n",
              "4      https://www.snopes.com/fact-check/wrist-risk/  English  "
            ],
            "text/html": [
              "\n",
              "  <div id=\"df-fb1f5159-19c7-49bd-9273-f31c3a43ed47\">\n",
              "    <div class=\"colab-df-container\">\n",
              "      <div>\n",
              "<style scoped>\n",
              "    .dataframe tbody tr th:only-of-type {\n",
              "        vertical-align: middle;\n",
              "    }\n",
              "\n",
              "    .dataframe tbody tr th {\n",
              "        vertical-align: top;\n",
              "    }\n",
              "\n",
              "    .dataframe thead th {\n",
              "        text-align: right;\n",
              "    }\n",
              "</style>\n",
              "<table border=\"1\" class=\"dataframe\">\n",
              "  <thead>\n",
              "    <tr style=\"text-align: right;\">\n",
              "      <th></th>\n",
              "      <th>id</th>\n",
              "      <th>text</th>\n",
              "      <th>date</th>\n",
              "      <th>truthRating</th>\n",
              "      <th>ratingName</th>\n",
              "      <th>author</th>\n",
              "      <th>headline</th>\n",
              "      <th>named_entities_claim</th>\n",
              "      <th>named_entities_article</th>\n",
              "      <th>keywords</th>\n",
              "      <th>source</th>\n",
              "      <th>sourceURL</th>\n",
              "      <th>link</th>\n",
              "      <th>language</th>\n",
              "    </tr>\n",
              "  </thead>\n",
              "  <tbody>\n",
              "    <tr>\n",
              "      <th>0</th>\n",
              "      <td>http://data.gesis.org/claimskg/claim_review/b0...</td>\n",
              "      <td>GOP presidential candidate Ted Cruz ran a 'Net...</td>\n",
              "      <td>Unknown</td>\n",
              "      <td>1</td>\n",
              "      <td>False</td>\n",
              "      <td>Unknown</td>\n",
              "      <td>Ted Cruz Doesn’t Want to ‘Netflix and Chill’ w...</td>\n",
              "      <td>Netflix,Netflix and Chill,Republican,Ted Cruz,...</td>\n",
              "      <td>Netflix and Chill,Ted Cruz</td>\n",
              "      <td>politics, ted cruz</td>\n",
              "      <td>snopes</td>\n",
              "      <td>http://www.snopes.com</td>\n",
              "      <td>https://www.snopes.com/fact-check/ted-cruz-net...</td>\n",
              "      <td>English</td>\n",
              "    </tr>\n",
              "    <tr>\n",
              "      <th>1</th>\n",
              "      <td>http://data.gesis.org/claimskg/claim_review/03...</td>\n",
              "      <td>A woman managed to call 911 during a domestic ...</td>\n",
              "      <td>Unknown</td>\n",
              "      <td>1</td>\n",
              "      <td>False</td>\n",
              "      <td>Unknown</td>\n",
              "      <td>In Case of Intruder, Should You Ask 911 for a ...</td>\n",
              "      <td>BuzzFeed,Reddit,Reddit gold,Super Bowl,Super B...</td>\n",
              "      <td>NaN</td>\n",
              "      <td>911 calls, domestic violence</td>\n",
              "      <td>snopes</td>\n",
              "      <td>http://www.snopes.com</td>\n",
              "      <td>https://www.snopes.com/fact-check/case-intrude...</td>\n",
              "      <td>English</td>\n",
              "    </tr>\n",
              "    <tr>\n",
              "      <th>2</th>\n",
              "      <td>http://data.gesis.org/claimskg/claim_review/e1...</td>\n",
              "      <td>The California Department of Public Health has...</td>\n",
              "      <td>Unknown</td>\n",
              "      <td>1</td>\n",
              "      <td>False</td>\n",
              "      <td>Unknown</td>\n",
              "      <td>Measles Parties</td>\n",
              "      <td>ABCNews.com,California Department of Public He...</td>\n",
              "      <td>California Department of Public Health,measles</td>\n",
              "      <td>ASP Article</td>\n",
              "      <td>snopes</td>\n",
              "      <td>http://www.snopes.com</td>\n",
              "      <td>https://www.snopes.com/fact-check/party-scarred/</td>\n",
              "      <td>English</td>\n",
              "    </tr>\n",
              "    <tr>\n",
              "      <th>3</th>\n",
              "      <td>http://data.gesis.org/claimskg/claim_review/3c...</td>\n",
              "      <td>Michelle Obama gorged herself on an expensive ...</td>\n",
              "      <td>Unknown</td>\n",
              "      <td>1</td>\n",
              "      <td>False</td>\n",
              "      <td>Unknown</td>\n",
              "      <td>Michelle Obama and Room Service</td>\n",
              "      <td>2008.   Democratic presidential nominee,Alfred...</td>\n",
              "      <td>Michelle Obama,Waldorf-Astoria hotel,room service</td>\n",
              "      <td>ASP Article, barack obama</td>\n",
              "      <td>snopes</td>\n",
              "      <td>http://www.snopes.com</td>\n",
              "      <td>https://www.snopes.com/fact-check/room-for-error/</td>\n",
              "      <td>English</td>\n",
              "    </tr>\n",
              "    <tr>\n",
              "      <th>4</th>\n",
              "      <td>http://data.gesis.org/claimskg/claim_review/b4...</td>\n",
              "      <td>A child injured his arm through extended weari...</td>\n",
              "      <td>Unknown</td>\n",
              "      <td>3</td>\n",
              "      <td>True</td>\n",
              "      <td>Unknown</td>\n",
              "      <td>Silly Bandz Danger</td>\n",
              "      <td>Associated Press,Bonkers,Facebook,Herendeen,Ne...</td>\n",
              "      <td>Silly Bandz</td>\n",
              "      <td>ASP Article, Parental Nightmares</td>\n",
              "      <td>snopes</td>\n",
              "      <td>http://www.snopes.com</td>\n",
              "      <td>https://www.snopes.com/fact-check/wrist-risk/</td>\n",
              "      <td>English</td>\n",
              "    </tr>\n",
              "  </tbody>\n",
              "</table>\n",
              "</div>\n",
              "      <button class=\"colab-df-convert\" onclick=\"convertToInteractive('df-fb1f5159-19c7-49bd-9273-f31c3a43ed47')\"\n",
              "              title=\"Convert this dataframe to an interactive table.\"\n",
              "              style=\"display:none;\">\n",
              "        \n",
              "  <svg xmlns=\"http://www.w3.org/2000/svg\" height=\"24px\"viewBox=\"0 0 24 24\"\n",
              "       width=\"24px\">\n",
              "    <path d=\"M0 0h24v24H0V0z\" fill=\"none\"/>\n",
              "    <path d=\"M18.56 5.44l.94 2.06.94-2.06 2.06-.94-2.06-.94-.94-2.06-.94 2.06-2.06.94zm-11 1L8.5 8.5l.94-2.06 2.06-.94-2.06-.94L8.5 2.5l-.94 2.06-2.06.94zm10 10l.94 2.06.94-2.06 2.06-.94-2.06-.94-.94-2.06-.94 2.06-2.06.94z\"/><path d=\"M17.41 7.96l-1.37-1.37c-.4-.4-.92-.59-1.43-.59-.52 0-1.04.2-1.43.59L10.3 9.45l-7.72 7.72c-.78.78-.78 2.05 0 2.83L4 21.41c.39.39.9.59 1.41.59.51 0 1.02-.2 1.41-.59l7.78-7.78 2.81-2.81c.8-.78.8-2.07 0-2.86zM5.41 20L4 18.59l7.72-7.72 1.47 1.35L5.41 20z\"/>\n",
              "  </svg>\n",
              "      </button>\n",
              "      \n",
              "  <style>\n",
              "    .colab-df-container {\n",
              "      display:flex;\n",
              "      flex-wrap:wrap;\n",
              "      gap: 12px;\n",
              "    }\n",
              "\n",
              "    .colab-df-convert {\n",
              "      background-color: #E8F0FE;\n",
              "      border: none;\n",
              "      border-radius: 50%;\n",
              "      cursor: pointer;\n",
              "      display: none;\n",
              "      fill: #1967D2;\n",
              "      height: 32px;\n",
              "      padding: 0 0 0 0;\n",
              "      width: 32px;\n",
              "    }\n",
              "\n",
              "    .colab-df-convert:hover {\n",
              "      background-color: #E2EBFA;\n",
              "      box-shadow: 0px 1px 2px rgba(60, 64, 67, 0.3), 0px 1px 3px 1px rgba(60, 64, 67, 0.15);\n",
              "      fill: #174EA6;\n",
              "    }\n",
              "\n",
              "    [theme=dark] .colab-df-convert {\n",
              "      background-color: #3B4455;\n",
              "      fill: #D2E3FC;\n",
              "    }\n",
              "\n",
              "    [theme=dark] .colab-df-convert:hover {\n",
              "      background-color: #434B5C;\n",
              "      box-shadow: 0px 1px 3px 1px rgba(0, 0, 0, 0.15);\n",
              "      filter: drop-shadow(0px 1px 2px rgba(0, 0, 0, 0.3));\n",
              "      fill: #FFFFFF;\n",
              "    }\n",
              "  </style>\n",
              "\n",
              "      <script>\n",
              "        const buttonEl =\n",
              "          document.querySelector('#df-fb1f5159-19c7-49bd-9273-f31c3a43ed47 button.colab-df-convert');\n",
              "        buttonEl.style.display =\n",
              "          google.colab.kernel.accessAllowed ? 'block' : 'none';\n",
              "\n",
              "        async function convertToInteractive(key) {\n",
              "          const element = document.querySelector('#df-fb1f5159-19c7-49bd-9273-f31c3a43ed47');\n",
              "          const dataTable =\n",
              "            await google.colab.kernel.invokeFunction('convertToInteractive',\n",
              "                                                     [key], {});\n",
              "          if (!dataTable) return;\n",
              "\n",
              "          const docLinkHtml = 'Like what you see? Visit the ' +\n",
              "            '<a target=\"_blank\" href=https://colab.research.google.com/notebooks/data_table.ipynb>data table notebook</a>'\n",
              "            + ' to learn more about interactive tables.';\n",
              "          element.innerHTML = '';\n",
              "          dataTable['output_type'] = 'display_data';\n",
              "          await google.colab.output.renderOutput(dataTable, element);\n",
              "          const docLink = document.createElement('div');\n",
              "          docLink.innerHTML = docLinkHtml;\n",
              "          element.appendChild(docLink);\n",
              "        }\n",
              "      </script>\n",
              "    </div>\n",
              "  </div>\n",
              "  "
            ]
          },
          "metadata": {},
          "execution_count": 19
        }
      ]
    },
    {
      "cell_type": "markdown",
      "source": [
        "Dans la cellule suivante, les opérations effectuées sont : \n",
        "- concaténations des champs author, keywords, headline et  source au texte.\n",
        "\n",
        "Nous les plaçons à la fin des séquences pour ne pas inférer avec la lecture de la première partie (une phrase cohérente) (on le fait en même temps que le reste, dans la boucle ci-dessous)\n",
        "\n",
        "Nous réalisons également les prétraitements suivants : \n",
        "- Retirer les nombres\n",
        "- Retirer la ponctuation"
      ],
      "metadata": {
        "id": "4NNHzKPphY9_"
      }
    },
    {
      "cell_type": "code",
      "source": [
        "newDocs = []\n",
        "for i in range(len(textdf)):\n",
        "    doc = textdf.text[i]\n",
        "    doc = doc+' '+str(textdf.author[i])\n",
        "    doc = doc+' '+str(textdf.keywords[i])\n",
        "    doc = doc+' '+str(textdf.headline[i])\n",
        "    doc = doc+' '+str(textdf.source[i])\n",
        "\n",
        "    #suppression de la ponctuation :\n",
        "    new_doc = doc.translate(str.maketrans('','',string.punctuation))\n",
        "   \n",
        "    #suppression des nombres\n",
        "    new_doc = \"\".join([word for word in new_doc if not word.isdigit()])\n",
        "    \n",
        "    newDocs.append(new_doc)\n",
        "textdf[\"text\"]=newDocs"
      ],
      "metadata": {
        "id": "DUP2vTDmiE0J"
      },
      "execution_count": 20,
      "outputs": []
    },
    {
      "cell_type": "markdown",
      "source": [
        "Dans la cellule suivante, nous faisons :\n",
        "- la Tokenisation du texte avec la taille du vocabulaire spécifiée.\n",
        "- le rembourage des séquences avec 0 pour qu'elles aient toutes la même taille.\n",
        "\n"
      ],
      "metadata": {
        "id": "3h4Rb9d2mMMw"
      }
    },
    {
      "cell_type": "code",
      "source": [
        "#numérisation\n",
        "mytokens = Tokenizer(num_words=max_tokens, lower=False)\n",
        "mytokens.fit_on_texts(textdf.text)\n",
        "tokenized_text = mytokens.texts_to_sequences(textdf.text)\n",
        "\n",
        "int_to_word = dict([(i,w) for (w,i) in mytokens.word_index.items()])\n",
        "\n",
        "encoded_docs = mytokens.texts_to_sequences(textdf.text)\n",
        "\n",
        "padded_docs = pad_sequences(encoded_docs,maxlen=np.max([len(doc) for doc in encoded_docs]))\n",
        "print(\"max length of sequences : \",np.max([len(p) for p in padded_docs]))\n",
        "print(\"min length of sequences : \",np.min([len(p) for p in padded_docs]))\n",
        "print(\"number of sequences : \",len(padded_docs),\"initial number : \",len(textdf.text))\n",
        "\n",
        "truthvalues = [0 if i==1 else 1 for i in textdf.truthRating]"
      ],
      "metadata": {
        "colab": {
          "base_uri": "https://localhost:8080/"
        },
        "id": "-G1SFfhvmMol",
        "outputId": "01000207-0121-46dc-8021-7f833ea1fa5f"
      },
      "execution_count": 21,
      "outputs": [
        {
          "output_type": "stream",
          "name": "stdout",
          "text": [
            "max length of sequences :  79\n",
            "min length of sequences :  79\n",
            "number of sequences :  10000 initial number :  10000\n"
          ]
        }
      ]
    },
    {
      "cell_type": "markdown",
      "source": [
        "Affichage du texte après les prétraitements et la Tokenisation : "
      ],
      "metadata": {
        "id": "riSTtX012P3o"
      }
    },
    {
      "cell_type": "code",
      "source": [
        "' '.join([int_to_word[i] for i in encoded_docs[0]])"
      ],
      "metadata": {
        "colab": {
          "base_uri": "https://localhost:8080/",
          "height": 35
        },
        "id": "X6yLxnmT2PgJ",
        "outputId": "a3aa5054-91b9-4b24-cc40-370220d87c1a"
      },
      "execution_count": 22,
      "outputs": [
        {
          "output_type": "execute_result",
          "data": {
            "text/plain": [
              "'GOP presidential candidate Ted Cruz a and on his campaign site Unknown politics Ted Cruz to and with You snopes'"
            ],
            "application/vnd.google.colaboratory.intrinsic+json": {
              "type": "string"
            }
          },
          "metadata": {},
          "execution_count": 22
        }
      ]
    },
    {
      "cell_type": "markdown",
      "source": [
        "Séparer avant l'oversampling pour éviter un biais :"
      ],
      "metadata": {
        "id": "GSdDMLhlmXvB"
      }
    },
    {
      "cell_type": "code",
      "source": [
        "X_train, X_test,y_train,y_test = train_test_split(padded_docs,truthvalues,test_size=0.3,shuffle=True)"
      ],
      "metadata": {
        "id": "2b2hqijlmYQZ"
      },
      "execution_count": 23,
      "outputs": []
    },
    {
      "cell_type": "markdown",
      "source": [
        "Nous faisons l'oversampling séparément sur les données de test et d'entraînement :"
      ],
      "metadata": {
        "id": "0O78cnZenByY"
      }
    },
    {
      "cell_type": "code",
      "source": [
        "from imblearn.over_sampling import SMOTE\n",
        "X_train,y_train = SMOTE().fit_resample(X_train,y_train)\n",
        "X_test,y_test = SMOTE().fit_resample(X_test,y_test)\n",
        "\n",
        "print(\"after resampling, train value counts : \\n0 :\",len([i for i in y_train if i==0]),\n",
        "      \"\\n1 :\",len([i for i in y_train if i==1]))"
      ],
      "metadata": {
        "colab": {
          "base_uri": "https://localhost:8080/"
        },
        "id": "GllvkTTlnCGm",
        "outputId": "75f895b7-e34f-4b50-a617-cdbeaeae8ee8"
      },
      "execution_count": 24,
      "outputs": [
        {
          "output_type": "stream",
          "name": "stdout",
          "text": [
            "after resampling, train value counts : \n",
            "0 : 5153 \n",
            "1 : 5153\n"
          ]
        }
      ]
    },
    {
      "cell_type": "markdown",
      "source": [
        "Passage des index en one hot vectors :"
      ],
      "metadata": {
        "id": "WDIIA2HMnRgQ"
      }
    },
    {
      "cell_type": "code",
      "source": [
        "X = np_utils.to_categorical(X_train)\n",
        "y = np_utils.to_categorical(y_train,num_classes=2)"
      ],
      "metadata": {
        "id": "0KXRvPZUnR3i"
      },
      "execution_count": 25,
      "outputs": []
    },
    {
      "cell_type": "markdown",
      "source": [
        "Création du modèle :"
      ],
      "metadata": {
        "id": "MdOx9ezpnXwj"
      }
    },
    {
      "cell_type": "code",
      "source": [
        "#model :\n",
        "model = Sequential()\n",
        "#model.add(LSTM(255,input_shape=(X.shape[1], X.shape[2]), return_sequences=(True)))\n",
        "#model.add(Dropout(0.4))\n",
        "model.add(LSTM(250))\n",
        "model.add(Dropout(0.4))\n",
        "model.add(Dense(y.shape[1],activation='softmax'))\n",
        "opt = keras.optimizers.Adam(learning_rate=0.001)\n",
        "model.compile(optimizer=opt,loss='categorical_crossentropy',metrics=['accuracy'])"
      ],
      "metadata": {
        "id": "AFONTd3znYGw"
      },
      "execution_count": 26,
      "outputs": []
    },
    {
      "cell_type": "markdown",
      "source": [
        "Entraînement du modèle :"
      ],
      "metadata": {
        "id": "7JHdNNWjn7wk"
      }
    },
    {
      "cell_type": "code",
      "execution_count": 27,
      "metadata": {
        "colab": {
          "base_uri": "https://localhost:8080/"
        },
        "id": "KfdV530SVOVD",
        "outputId": "f6c8af3c-b64b-44fc-db4d-806e1d6d5e84"
      },
      "outputs": [
        {
          "output_type": "stream",
          "name": "stdout",
          "text": [
            "Epoch 1/3\n",
            "1031/1031 [==============================] - 351s 337ms/step - loss: 0.5712 - accuracy: 0.6942\n",
            "Epoch 2/3\n",
            "1031/1031 [==============================] - 325s 316ms/step - loss: 0.4186 - accuracy: 0.7983\n",
            "Epoch 3/3\n",
            "1031/1031 [==============================] - 322s 312ms/step - loss: 0.3512 - accuracy: 0.8330\n"
          ]
        },
        {
          "output_type": "execute_result",
          "data": {
            "text/plain": [
              "<keras.callbacks.History at 0x7f5856f22850>"
            ]
          },
          "metadata": {},
          "execution_count": 27
        }
      ],
      "source": [
        "# fit the model\n",
        "model.fit(X, y, epochs=3, batch_size=10)"
      ]
    },
    {
      "cell_type": "markdown",
      "source": [
        "Nous faisons à présent notre évaluation du modèle sur les données de test :"
      ],
      "metadata": {
        "id": "36QMT9MBoAu6"
      }
    },
    {
      "cell_type": "code",
      "source": [
        "#test it on test data\n",
        "#first prepare the test data :\n",
        "X = np_utils.to_categorical(X_test)\n",
        "y = np_utils.to_categorical(y_test,num_classes=2)\n",
        "\n",
        "model.evaluate(X,y)"
      ],
      "metadata": {
        "colab": {
          "base_uri": "https://localhost:8080/"
        },
        "id": "mCbfEGpmn_qI",
        "outputId": "f332407a-684b-4a47-b35d-9c9f3f03347e"
      },
      "execution_count": 28,
      "outputs": [
        {
          "output_type": "stream",
          "name": "stdout",
          "text": [
            "139/139 [==============================] - 27s 192ms/step - loss: 0.4469 - accuracy: 0.7892\n"
          ]
        },
        {
          "output_type": "execute_result",
          "data": {
            "text/plain": [
              "[0.4468914568424225, 0.7892001867294312]"
            ]
          },
          "metadata": {},
          "execution_count": 28
        }
      ]
    },
    {
      "cell_type": "markdown",
      "source": [
        "Affichage de la matrice de confusion :"
      ],
      "metadata": {
        "id": "6tGzK0it4cVl"
      }
    },
    {
      "cell_type": "code",
      "source": [
        "#prédiction\n",
        "pred = model.predict(X)\n",
        "#vp : on a dit 1 et c'est 1.\n",
        "#fp : on a dit 1 et c'est 0. etc....\n",
        "vp=0\n",
        "vn=0\n",
        "fp=0\n",
        "fn=0\n",
        "for i in range(pred.shape[0]):\n",
        "    if np.argmax(pred[i])==0:\n",
        "        if np.argmax(y[i])==0:\n",
        "            vn=vn+1\n",
        "        else:\n",
        "            fn=fn+1\n",
        "    elif np.argmax(pred[i])==1:\n",
        "        if 1==np.argmax(y[i]):\n",
        "            vp=vp+1\n",
        "        else:\n",
        "            fp=fp+1\n",
        "\n",
        "import matplotlib.pyplot as plt\n",
        "from sklearn.datasets import make_classification\n",
        "from sklearn.metrics import confusion_matrix, ConfusionMatrixDisplay\n",
        "from sklearn.model_selection import train_test_split\n",
        "from sklearn.svm import SVC\n",
        "\n",
        "cm = confusion_matrix([np.argmax(Y) for Y in y], \n",
        "                      [np.argmax(p) for p in pred],\n",
        "                      labels=[0,1])\n",
        "disp = ConfusionMatrixDisplay(confusion_matrix=cm, display_labels=[\"faux\",\"vrai\"])\n",
        "disp.plot()"
      ],
      "metadata": {
        "colab": {
          "base_uri": "https://localhost:8080/",
          "height": 296
        },
        "id": "Gn-skOm04gBd",
        "outputId": "61dd0e32-3cdb-4ee3-e1b5-540ef3a5755d"
      },
      "execution_count": 29,
      "outputs": [
        {
          "output_type": "execute_result",
          "data": {
            "text/plain": [
              "<sklearn.metrics._plot.confusion_matrix.ConfusionMatrixDisplay at 0x7f5856cb0890>"
            ]
          },
          "metadata": {},
          "execution_count": 29
        },
        {
          "output_type": "display_data",
          "data": {
            "text/plain": [
              "<Figure size 432x288 with 2 Axes>"
            ],
            "image/png": "[encoded data removed]"
          },
          "metadata": {
            "needs_background": "light"
          }
        }
      ]
    }
  ]
}