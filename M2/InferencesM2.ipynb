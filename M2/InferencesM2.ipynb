{
 "cells": [
  {
   "cell_type": "markdown",
   "id": "339c9676",
   "metadata": {},
   "source": [
    "Entrer une phrase"
   ]
  },
  {
   "cell_type": "code",
   "execution_count": 47,
   "id": "91a1200c",
   "metadata": {},
   "outputs": [
    {
     "name": "stdout",
     "output_type": "stream",
     "text": [
      "Collecting neo4j\n",
      "  Downloading neo4j-5.13.0.tar.gz (192 kB)\n",
      "  Installing build dependencies: started\n",
      "  Installing build dependencies: finished with status 'done'\n",
      "  Getting requirements to build wheel: started\n",
      "  Getting requirements to build wheel: finished with status 'done'\n",
      "  Installing backend dependencies: started\n",
      "  Installing backend dependencies: finished with status 'done'\n",
      "    Preparing wheel metadata: started\n",
      "    Preparing wheel metadata: finished with status 'done'\n",
      "Requirement already satisfied: pytz in c:\\users\\rmrsm\\anaconda3\\lib\\site-packages (from neo4j) (2021.3)\n",
      "Building wheels for collected packages: neo4j\n",
      "  Building wheel for neo4j (PEP 517): started\n",
      "  Building wheel for neo4j (PEP 517): finished with status 'done'\n",
      "  Created wheel for neo4j: filename=neo4j-5.13.0-py3-none-any.whl size=265336 sha256=311adc97b7a8abab69cc77c9c21972a27bc031c2fbda8d7d34a987def936aaa4\n",
      "  Stored in directory: c:\\users\\rmrsm\\appdata\\local\\pip\\cache\\wheels\\17\\cd\\5f\\ad5ba78a08c37fe8bf2a407d27d10ba1a140d4c706f565d54d\n",
      "Successfully built neo4j\n",
      "Installing collected packages: neo4j\n",
      "Successfully installed neo4j-5.13.0\n",
      "Note: you may need to restart the kernel to use updated packages.\n"
     ]
    },
    {
     "name": "stderr",
     "output_type": "stream",
     "text": [
      "WARNING: Ignoring invalid distribution -atplotlib (c:\\users\\rmrsm\\anaconda3\\lib\\site-packages)\n",
      "WARNING: Ignoring invalid distribution -atplotlib (c:\\users\\rmrsm\\anaconda3\\lib\\site-packages)\n",
      "WARNING: Ignoring invalid distribution -atplotlib (c:\\users\\rmrsm\\anaconda3\\lib\\site-packages)\n",
      "WARNING: Ignoring invalid distribution -atplotlib (c:\\users\\rmrsm\\anaconda3\\lib\\site-packages)\n",
      "WARNING: Ignoring invalid distribution -atplotlib (c:\\users\\rmrsm\\anaconda3\\lib\\site-packages)\n",
      "WARNING: Ignoring invalid distribution -atplotlib (c:\\users\\rmrsm\\anaconda3\\lib\\site-packages)\n",
      "WARNING: Ignoring invalid distribution -atplotlib (c:\\users\\rmrsm\\anaconda3\\lib\\site-packages)\n",
      "WARNING: You are using pip version 22.0.4; however, version 23.2.1 is available.\n",
      "You should consider upgrading via the 'C:\\Users\\rmrsm\\anaconda3\\python.exe -m pip install --upgrade pip' command.\n"
     ]
    }
   ],
   "source": [
    "pip install neo4j"
   ]
  },
  {
   "cell_type": "code",
   "execution_count": 48,
   "id": "be1f12bb",
   "metadata": {},
   "outputs": [],
   "source": [
    "from neo4j import GraphDatabase"
   ]
  },
  {
   "cell_type": "code",
   "execution_count": 58,
   "id": "9ad82ace",
   "metadata": {},
   "outputs": [],
   "source": [
    "uri =  \"bolt://3.239.26.180:7687\"\n",
    "pwd = \"object-investigations-caves\"\n",
    "\n",
    "driver = GraphDatabase.driver(uri, auth=(\"neo4j\", pwd))"
   ]
  },
  {
   "cell_type": "code",
   "execution_count": 59,
   "id": "87c16a30",
   "metadata": {},
   "outputs": [],
   "source": [
    "query = \"MATCH (n) RETURN COUNT(n)\""
   ]
  },
  {
   "cell_type": "code",
   "execution_count": 60,
   "id": "1d6d14a9",
   "metadata": {},
   "outputs": [
    {
     "name": "stdout",
     "output_type": "stream",
     "text": [
      "0\n"
     ]
    }
   ],
   "source": [
    "with driver.session() as session:\n",
    "        result = session.run(query)\n",
    "        print(result.single()[\"COUNT(n)\"])"
   ]
  },
  {
   "cell_type": "code",
   "execution_count": null,
   "id": "d2a61d39",
   "metadata": {},
   "outputs": [],
   "source": [
    "query = \"MATCH (n) RETURN COUNT(n)\"\n"
   ]
  },
  {
   "cell_type": "code",
   "execution_count": 61,
   "id": "be2a68bc",
   "metadata": {},
   "outputs": [
    {
     "name": "stdout",
     "output_type": "stream",
     "text": [
      "Collecting py2neo\n",
      "  Downloading py2neo-2021.2.3-py2.py3-none-any.whl (177 kB)\n",
      "Requirement already satisfied: pygments>=2.0.0 in c:\\users\\rmrsm\\anaconda3\\lib\\site-packages (from py2neo) (2.10.0)\n",
      "Requirement already satisfied: urllib3 in c:\\users\\rmrsm\\anaconda3\\lib\\site-packages (from py2neo) (1.26.7)\n",
      "Collecting interchange~=2021.0.4Note: you may need to restart the kernel to use updated packages.\n",
      "  Downloading interchange-2021.0.4-py2.py3-none-any.whl (28 kB)\n",
      "Requirement already satisfied: certifi in c:\\users\\rmrsm\\anaconda3\\lib\\site-packages (from py2neo) (2022.6.15)\n"
     ]
    },
    {
     "name": "stderr",
     "output_type": "stream",
     "text": [
      "WARNING: Ignoring invalid distribution -atplotlib (c:\\users\\rmrsm\\anaconda3\\lib\\site-packages)\n",
      "WARNING: Ignoring invalid distribution -atplotlib (c:\\users\\rmrsm\\anaconda3\\lib\\site-packages)\n",
      "WARNING: Ignoring invalid distribution -atplotlib (c:\\users\\rmrsm\\anaconda3\\lib\\site-packages)\n",
      "WARNING: Ignoring invalid distribution -atplotlib (c:\\users\\rmrsm\\anaconda3\\lib\\site-packages)\n",
      "WARNING: Ignoring invalid distribution -atplotlib (c:\\users\\rmrsm\\anaconda3\\lib\\site-packages)\n",
      "WARNING: Ignoring invalid distribution -atplotlib (c:\\users\\rmrsm\\anaconda3\\lib\\site-packages)\n",
      "WARNING: Ignoring invalid distribution -atplotlib (c:\\users\\rmrsm\\anaconda3\\lib\\site-packages)\n",
      "WARNING: Ignoring invalid distribution -atplotlib (c:\\users\\rmrsm\\anaconda3\\lib\\site-packages)\n",
      "WARNING: Ignoring invalid distribution -atplotlib (c:\\users\\rmrsm\\anaconda3\\lib\\site-packages)\n"
     ]
    },
    {
     "name": "stdout",
     "output_type": "stream",
     "text": [
      "\n",
      "Collecting monotonic\n",
      "  Downloading monotonic-1.6-py2.py3-none-any.whl (8.2 kB)\n",
      "Collecting pansi>=2020.7.3\n",
      "  Downloading pansi-2020.7.3-py2.py3-none-any.whl (10 kB)\n",
      "Requirement already satisfied: packaging in c:\\users\\rmrsm\\anaconda3\\lib\\site-packages (from py2neo) (21.0)\n",
      "Requirement already satisfied: six>=1.15.0 in c:\\users\\rmrsm\\anaconda3\\lib\\site-packages (from py2neo) (1.16.0)\n",
      "Requirement already satisfied: pytz in c:\\users\\rmrsm\\anaconda3\\lib\\site-packages (from interchange~=2021.0.4->py2neo) (2021.3)\n",
      "Requirement already satisfied: pyparsing>=2.0.2 in c:\\users\\rmrsm\\anaconda3\\lib\\site-packages (from packaging->py2neo) (3.0.4)\n",
      "Installing collected packages: pansi, monotonic, interchange, py2neo\n",
      "Successfully installed interchange-2021.0.4 monotonic-1.6 pansi-2020.7.3 py2neo-2021.2.3\n"
     ]
    },
    {
     "name": "stderr",
     "output_type": "stream",
     "text": [
      "WARNING: Ignoring invalid distribution -atplotlib (c:\\users\\rmrsm\\anaconda3\\lib\\site-packages)\n",
      "WARNING: You are using pip version 22.0.4; however, version 23.2.1 is available.\n",
      "You should consider upgrading via the 'C:\\Users\\rmrsm\\anaconda3\\python.exe -m pip install --upgrade pip' command.\n"
     ]
    }
   ],
   "source": [
    "pip install py2neo"
   ]
  },
  {
   "cell_type": "code",
   "execution_count": 62,
   "id": "7c1349b1",
   "metadata": {},
   "outputs": [],
   "source": [
    "import pandas as pd \n",
    "import numpy as np \n",
    "from py2neo import Graph, Node, Relationship"
   ]
  },
  {
   "cell_type": "code",
   "execution_count": 63,
   "id": "8c20d906",
   "metadata": {},
   "outputs": [],
   "source": [
    "uri =  \"bolt://3.239.26.180:7687\"\n",
    "pwd = \"object-investigations-caves\"\n",
    "\n",
    "graph = Graph(uri, auth=(\"neo4j\", pwd))"
   ]
  },
  {
   "cell_type": "code",
   "execution_count": 71,
   "id": "7d37c96e",
   "metadata": {},
   "outputs": [
    {
     "ename": "ClientError",
     "evalue": "[Statement.SyntaxError] Variable `Noeud` not defined (line 1, column 22 (offset: 21))\n\"CREATE (n:Noeud {mot:Noeud.mot});\"\n                      ^",
     "output_type": "error",
     "traceback": [
      "\u001b[1;31m---------------------------------------------------------------------------\u001b[0m",
      "\u001b[1;31mClientError\u001b[0m                               Traceback (most recent call last)",
      "\u001b[1;32m~\\AppData\\Local\\Temp/ipykernel_44768/1085841993.py\u001b[0m in \u001b[0;36m<module>\u001b[1;34m\u001b[0m\n\u001b[0;32m      1\u001b[0m \u001b[0mquery\u001b[0m \u001b[1;33m=\u001b[0m \u001b[1;34m\"CREATE (n:Noeud {mot:Noeud.mot});\"\u001b[0m\u001b[1;33m\u001b[0m\u001b[1;33m\u001b[0m\u001b[0m\n\u001b[1;32m----> 2\u001b[1;33m \u001b[0mresult\u001b[0m \u001b[1;33m=\u001b[0m \u001b[0mgraph\u001b[0m\u001b[1;33m.\u001b[0m\u001b[0mquery\u001b[0m\u001b[1;33m(\u001b[0m\u001b[0mquery\u001b[0m\u001b[1;33m)\u001b[0m\u001b[1;33m\u001b[0m\u001b[1;33m\u001b[0m\u001b[0m\n\u001b[0m\u001b[0;32m      3\u001b[0m \u001b[0mresult\u001b[0m\u001b[1;33m\u001b[0m\u001b[1;33m\u001b[0m\u001b[0m\n",
      "\u001b[1;32m~\\anaconda3\\lib\\site-packages\\py2neo\\database.py\u001b[0m in \u001b[0;36mquery\u001b[1;34m(self, cypher, parameters, timeout)\u001b[0m\n\u001b[0;32m    516\u001b[0m             \u001b[0mn\u001b[0m \u001b[1;33m+=\u001b[0m \u001b[1;36m1\u001b[0m\u001b[1;33m\u001b[0m\u001b[1;33m\u001b[0m\u001b[0m\n\u001b[0;32m    517\u001b[0m             \u001b[1;32mtry\u001b[0m\u001b[1;33m:\u001b[0m\u001b[1;33m\u001b[0m\u001b[1;33m\u001b[0m\u001b[0m\n\u001b[1;32m--> 518\u001b[1;33m                 \u001b[0mresult\u001b[0m \u001b[1;33m=\u001b[0m \u001b[0mself\u001b[0m\u001b[1;33m.\u001b[0m\u001b[0mauto\u001b[0m\u001b[1;33m(\u001b[0m\u001b[0mreadonly\u001b[0m\u001b[1;33m=\u001b[0m\u001b[1;32mTrue\u001b[0m\u001b[1;33m)\u001b[0m\u001b[1;33m.\u001b[0m\u001b[0mrun\u001b[0m\u001b[1;33m(\u001b[0m\u001b[0mcypher\u001b[0m\u001b[1;33m,\u001b[0m \u001b[0mparameters\u001b[0m\u001b[1;33m)\u001b[0m\u001b[1;33m\u001b[0m\u001b[1;33m\u001b[0m\u001b[0m\n\u001b[0m\u001b[0;32m    519\u001b[0m             \u001b[1;32mexcept\u001b[0m \u001b[1;33m(\u001b[0m\u001b[0mConnectionUnavailable\u001b[0m\u001b[1;33m,\u001b[0m \u001b[0mConnectionBroken\u001b[0m\u001b[1;33m,\u001b[0m \u001b[0mConnectionLimit\u001b[0m\u001b[1;33m)\u001b[0m\u001b[1;33m:\u001b[0m\u001b[1;33m\u001b[0m\u001b[1;33m\u001b[0m\u001b[0m\n\u001b[0;32m    520\u001b[0m                 \u001b[1;32mcontinue\u001b[0m\u001b[1;33m\u001b[0m\u001b[1;33m\u001b[0m\u001b[0m\n",
      "\u001b[1;32m~\\anaconda3\\lib\\site-packages\\py2neo\\database.py\u001b[0m in \u001b[0;36mrun\u001b[1;34m(self, cypher, parameters, **kwparameters)\u001b[0m\n\u001b[0;32m    990\u001b[0m                                                   \u001b[0mgraph_name\u001b[0m\u001b[1;33m=\u001b[0m\u001b[0mself\u001b[0m\u001b[1;33m.\u001b[0m\u001b[0mgraph\u001b[0m\u001b[1;33m.\u001b[0m\u001b[0mname\u001b[0m\u001b[1;33m,\u001b[0m\u001b[1;33m\u001b[0m\u001b[1;33m\u001b[0m\u001b[0m\n\u001b[0;32m    991\u001b[0m                                                   readonly=self.readonly)\n\u001b[1;32m--> 992\u001b[1;33m             \u001b[0mself\u001b[0m\u001b[1;33m.\u001b[0m\u001b[0m_connector\u001b[0m\u001b[1;33m.\u001b[0m\u001b[0mpull\u001b[0m\u001b[1;33m(\u001b[0m\u001b[0mresult\u001b[0m\u001b[1;33m,\u001b[0m \u001b[1;33m-\u001b[0m\u001b[1;36m1\u001b[0m\u001b[1;33m)\u001b[0m\u001b[1;33m\u001b[0m\u001b[1;33m\u001b[0m\u001b[0m\n\u001b[0m\u001b[0;32m    993\u001b[0m             \u001b[1;32mreturn\u001b[0m \u001b[0mCursor\u001b[0m\u001b[1;33m(\u001b[0m\u001b[0mresult\u001b[0m\u001b[1;33m,\u001b[0m \u001b[0mhydrant\u001b[0m\u001b[1;33m)\u001b[0m\u001b[1;33m\u001b[0m\u001b[1;33m\u001b[0m\u001b[0m\n\u001b[0;32m    994\u001b[0m         \u001b[1;32mfinally\u001b[0m\u001b[1;33m:\u001b[0m\u001b[1;33m\u001b[0m\u001b[1;33m\u001b[0m\u001b[0m\n",
      "\u001b[1;32m~\\anaconda3\\lib\\site-packages\\py2neo\\client\\__init__.py\u001b[0m in \u001b[0;36mpull\u001b[1;34m(self, result, n)\u001b[0m\n\u001b[0;32m   1432\u001b[0m         \u001b[0mcx\u001b[0m \u001b[1;33m=\u001b[0m \u001b[0mself\u001b[0m\u001b[1;33m.\u001b[0m\u001b[0m_reacquire\u001b[0m\u001b[1;33m(\u001b[0m\u001b[0mresult\u001b[0m\u001b[1;33m.\u001b[0m\u001b[0mtransaction\u001b[0m\u001b[1;33m)\u001b[0m\u001b[1;33m\u001b[0m\u001b[1;33m\u001b[0m\u001b[0m\n\u001b[0;32m   1433\u001b[0m         \u001b[1;32mtry\u001b[0m\u001b[1;33m:\u001b[0m\u001b[1;33m\u001b[0m\u001b[1;33m\u001b[0m\u001b[0m\n\u001b[1;32m-> 1434\u001b[1;33m             \u001b[0mcx\u001b[0m\u001b[1;33m.\u001b[0m\u001b[0mpull\u001b[0m\u001b[1;33m(\u001b[0m\u001b[0mresult\u001b[0m\u001b[1;33m,\u001b[0m \u001b[0mn\u001b[0m\u001b[1;33m=\u001b[0m\u001b[0mn\u001b[0m\u001b[1;33m)\u001b[0m\u001b[1;33m\u001b[0m\u001b[1;33m\u001b[0m\u001b[0m\n\u001b[0m\u001b[0;32m   1435\u001b[0m         \u001b[1;32mexcept\u001b[0m \u001b[1;33m(\u001b[0m\u001b[0mConnectionUnavailable\u001b[0m\u001b[1;33m,\u001b[0m \u001b[0mConnectionBroken\u001b[0m\u001b[1;33m)\u001b[0m\u001b[1;33m:\u001b[0m\u001b[1;33m\u001b[0m\u001b[1;33m\u001b[0m\u001b[0m\n\u001b[0;32m   1436\u001b[0m             \u001b[0mself\u001b[0m\u001b[1;33m.\u001b[0m\u001b[0mprune\u001b[0m\u001b[1;33m(\u001b[0m\u001b[0mcx\u001b[0m\u001b[1;33m.\u001b[0m\u001b[0mprofile\u001b[0m\u001b[1;33m)\u001b[0m\u001b[1;33m\u001b[0m\u001b[1;33m\u001b[0m\u001b[0m\n",
      "\u001b[1;32m~\\anaconda3\\lib\\site-packages\\py2neo\\client\\bolt.py\u001b[0m in \u001b[0;36mpull\u001b[1;34m(self, result, n, capacity)\u001b[0m\n\u001b[0;32m    999\u001b[0m                                         \"during pull\"), error)\n\u001b[0;32m   1000\u001b[0m         \u001b[1;32melse\u001b[0m\u001b[1;33m:\u001b[0m\u001b[1;33m\u001b[0m\u001b[1;33m\u001b[0m\u001b[0m\n\u001b[1;32m-> 1001\u001b[1;33m             \u001b[0mself\u001b[0m\u001b[1;33m.\u001b[0m\u001b[0m_audit\u001b[0m\u001b[1;33m(\u001b[0m\u001b[0mself\u001b[0m\u001b[1;33m.\u001b[0m\u001b[0m_transaction\u001b[0m\u001b[1;33m)\u001b[0m\u001b[1;33m\u001b[0m\u001b[1;33m\u001b[0m\u001b[0m\n\u001b[0m\u001b[0;32m   1002\u001b[0m             \u001b[1;32mreturn\u001b[0m \u001b[0mresponse\u001b[0m\u001b[1;33m\u001b[0m\u001b[1;33m\u001b[0m\u001b[0m\n\u001b[0;32m   1003\u001b[0m \u001b[1;33m\u001b[0m\u001b[0m\n",
      "\u001b[1;32m~\\anaconda3\\lib\\site-packages\\py2neo\\client\\bolt.py\u001b[0m in \u001b[0;36m_audit\u001b[1;34m(self, task)\u001b[0m\n\u001b[0;32m    808\u001b[0m             \u001b[1;32mreturn\u001b[0m\u001b[1;33m\u001b[0m\u001b[1;33m\u001b[0m\u001b[0m\n\u001b[0;32m    809\u001b[0m         \u001b[1;32mtry\u001b[0m\u001b[1;33m:\u001b[0m\u001b[1;33m\u001b[0m\u001b[1;33m\u001b[0m\u001b[0m\n\u001b[1;32m--> 810\u001b[1;33m             \u001b[0mtask\u001b[0m\u001b[1;33m.\u001b[0m\u001b[0maudit\u001b[0m\u001b[1;33m(\u001b[0m\u001b[1;33m)\u001b[0m\u001b[1;33m\u001b[0m\u001b[1;33m\u001b[0m\u001b[0m\n\u001b[0m\u001b[0;32m    811\u001b[0m         \u001b[1;32mexcept\u001b[0m \u001b[0mNeo4jError\u001b[0m\u001b[1;33m:\u001b[0m\u001b[1;33m\u001b[0m\u001b[1;33m\u001b[0m\u001b[0m\n\u001b[0;32m    812\u001b[0m             \u001b[0mself\u001b[0m\u001b[1;33m.\u001b[0m\u001b[0mreset\u001b[0m\u001b[1;33m(\u001b[0m\u001b[0mforce\u001b[0m\u001b[1;33m=\u001b[0m\u001b[1;32mTrue\u001b[0m\u001b[1;33m)\u001b[0m\u001b[1;33m\u001b[0m\u001b[1;33m\u001b[0m\u001b[0m\n",
      "\u001b[1;32m~\\anaconda3\\lib\\site-packages\\py2neo\\client\\bolt.py\u001b[0m in \u001b[0;36maudit\u001b[1;34m(self)\u001b[0m\n\u001b[0;32m   1138\u001b[0m     \u001b[1;32mdef\u001b[0m \u001b[0maudit\u001b[0m\u001b[1;33m(\u001b[0m\u001b[0mself\u001b[0m\u001b[1;33m)\u001b[0m\u001b[1;33m:\u001b[0m\u001b[1;33m\u001b[0m\u001b[1;33m\u001b[0m\u001b[0m\n\u001b[0;32m   1139\u001b[0m         \u001b[1;32mfor\u001b[0m \u001b[0mitem\u001b[0m \u001b[1;32min\u001b[0m \u001b[0mself\u001b[0m\u001b[1;33m.\u001b[0m\u001b[0m_items\u001b[0m\u001b[1;33m:\u001b[0m\u001b[1;33m\u001b[0m\u001b[1;33m\u001b[0m\u001b[0m\n\u001b[1;32m-> 1140\u001b[1;33m             \u001b[0mitem\u001b[0m\u001b[1;33m.\u001b[0m\u001b[0maudit\u001b[0m\u001b[1;33m(\u001b[0m\u001b[1;33m)\u001b[0m\u001b[1;33m\u001b[0m\u001b[1;33m\u001b[0m\u001b[0m\n\u001b[0m\u001b[0;32m   1141\u001b[0m \u001b[1;33m\u001b[0m\u001b[0m\n\u001b[0;32m   1142\u001b[0m \u001b[1;33m\u001b[0m\u001b[0m\n",
      "\u001b[1;32m~\\anaconda3\\lib\\site-packages\\py2neo\\client\\bolt.py\u001b[0m in \u001b[0;36maudit\u001b[1;34m(self)\u001b[0m\n\u001b[0;32m   1138\u001b[0m     \u001b[1;32mdef\u001b[0m \u001b[0maudit\u001b[0m\u001b[1;33m(\u001b[0m\u001b[0mself\u001b[0m\u001b[1;33m)\u001b[0m\u001b[1;33m:\u001b[0m\u001b[1;33m\u001b[0m\u001b[1;33m\u001b[0m\u001b[0m\n\u001b[0;32m   1139\u001b[0m         \u001b[1;32mfor\u001b[0m \u001b[0mitem\u001b[0m \u001b[1;32min\u001b[0m \u001b[0mself\u001b[0m\u001b[1;33m.\u001b[0m\u001b[0m_items\u001b[0m\u001b[1;33m:\u001b[0m\u001b[1;33m\u001b[0m\u001b[1;33m\u001b[0m\u001b[0m\n\u001b[1;32m-> 1140\u001b[1;33m             \u001b[0mitem\u001b[0m\u001b[1;33m.\u001b[0m\u001b[0maudit\u001b[0m\u001b[1;33m(\u001b[0m\u001b[1;33m)\u001b[0m\u001b[1;33m\u001b[0m\u001b[1;33m\u001b[0m\u001b[0m\n\u001b[0m\u001b[0;32m   1141\u001b[0m \u001b[1;33m\u001b[0m\u001b[0m\n\u001b[0;32m   1142\u001b[0m \u001b[1;33m\u001b[0m\u001b[0m\n",
      "\u001b[1;32m~\\anaconda3\\lib\\site-packages\\py2neo\\client\\bolt.py\u001b[0m in \u001b[0;36maudit\u001b[1;34m(self)\u001b[0m\n\u001b[0;32m   1301\u001b[0m         \u001b[1;32mif\u001b[0m \u001b[0mself\u001b[0m\u001b[1;33m.\u001b[0m\u001b[0m_failure\u001b[0m\u001b[1;33m:\u001b[0m\u001b[1;33m\u001b[0m\u001b[1;33m\u001b[0m\u001b[0m\n\u001b[0;32m   1302\u001b[0m             \u001b[0mself\u001b[0m\u001b[1;33m.\u001b[0m\u001b[0mset_ignored\u001b[0m\u001b[1;33m(\u001b[0m\u001b[1;33m)\u001b[0m\u001b[1;33m\u001b[0m\u001b[1;33m\u001b[0m\u001b[0m\n\u001b[1;32m-> 1303\u001b[1;33m             \u001b[1;32mraise\u001b[0m \u001b[0mself\u001b[0m\u001b[1;33m.\u001b[0m\u001b[0m_failure\u001b[0m\u001b[1;33m\u001b[0m\u001b[1;33m\u001b[0m\u001b[0m\n\u001b[0m\u001b[0;32m   1304\u001b[0m \u001b[1;33m\u001b[0m\u001b[0m\n\u001b[0;32m   1305\u001b[0m     \u001b[1;33m@\u001b[0m\u001b[0mproperty\u001b[0m\u001b[1;33m\u001b[0m\u001b[1;33m\u001b[0m\u001b[0m\n",
      "\u001b[1;31mClientError\u001b[0m: [Statement.SyntaxError] Variable `Noeud` not defined (line 1, column 22 (offset: 21))\n\"CREATE (n:Noeud {mot:Noeud.mot});\"\n                      ^"
     ]
    }
   ],
   "source": [
    "query = \"CREATE (n:Noeud {mot:Noeud.mot});\"\n",
    "result = graph.query(query)\n",
    "result"
   ]
  },
  {
   "cell_type": "code",
   "execution_count": null,
   "id": "f7976d76",
   "metadata": {},
   "outputs": [],
   "source": []
  },
  {
   "cell_type": "code",
   "execution_count": 36,
   "id": "09a9c469",
   "metadata": {},
   "outputs": [],
   "source": [
    "def cleaning_sentence():\n",
    "    sentence_input = ''\n",
    "\n",
    "    while sentence_input == '' : \n",
    "        print('Veuillez entrer une phrase à étudier :\\n')\n",
    "        sentence_input = input()\n",
    "\n",
    "    #on enlève les , ; . \n",
    "    items_replace = [\",\", \";\", \".\", \"!\", \"?\"]\n",
    "\n",
    "    clean_sentence = sentence_input\n",
    "    for items in items_replace :\n",
    "        clean_sentence = clean_sentence.replace(items, \"\") \n",
    "\n",
    "    #on découpe la phrase dans une liste de string \n",
    "    sentence_split = clean_sentence.split()    \n",
    "    \n",
    "    return sentence_split"
   ]
  },
  {
   "cell_type": "code",
   "execution_count": 37,
   "id": "95d687f6",
   "metadata": {},
   "outputs": [],
   "source": [
    "#Class Node et Edge \n",
    "\n",
    "class Node:\n",
    "    def __init__(self, mot, pred, succ, identificateur, final_bool):\n",
    "        self.mot = mot \n",
    "        self.pred = pred #id du noeud precedent \n",
    "        self.succ = succ #id du noeud successeur \n",
    "        self.identificateur = identificateur #unique\n",
    "        self.final_bool = final_bool #mot fin de phrase\n",
    "        \n",
    "class Edge:\n",
    "    def __init__(self,identificateur, relation, weight, node_start, node_end):\n",
    "        self.identificateur = identificateur\n",
    "        self.rel = relation\n",
    "        self.weight = weight \n",
    "        self.n_start = node_start\n",
    "        self.n_end = node_end \n",
    "\n",
    "class Graph:\n",
    "    def __init__(self, n, e):\n",
    "        self.nodes = n\n",
    "        self.edges = e"
   ]
  },
  {
   "cell_type": "code",
   "execution_count": 44,
   "id": "a3a6296b",
   "metadata": {},
   "outputs": [],
   "source": [
    "#creation du graphe depuis une phrase\n",
    "#retourne le graphe et les listes des identificateurs de noeuds et arêtes\n",
    "def create_graph(sentence):\n",
    "    \n",
    "    #enregistrement des mots ou voir s'ils sont déjà dans les fichiers \n",
    "    #enregistrementFichier(terme1)\n",
    "        \n",
    "    #Creation des noeuds \n",
    "    length = len(sentence)\n",
    "    #creation du premier noeud  \n",
    "    start_node = Node(\"_START\", None, 0, -1, False)\n",
    "    nodes = [start_node]\n",
    "    \n",
    "    #creation et inserer les noeuds dans le graphe \n",
    "    for i in range(length) : \n",
    "        nodes.append(Node(sentence[i], i-1, i+1, i, False))\n",
    "\n",
    "    \n",
    "    #indiquer le dernier mot \n",
    "    nodes[length-1].final_bool = True\n",
    "    \n",
    "    #creation du dernier noeud\n",
    "    end_node = Node(\"_END\", length-1, None, -2, False)\n",
    "    nodes.append(end_node)\n",
    "    \n",
    "    #Creation des arêtes \n",
    "    #Creation de la première arête entre n_start et le premier mot \n",
    "    edges = [Edge(-1, None, None, None, 1)]\n",
    "    \n",
    "    \n",
    "    for i in range(length) : \n",
    "        \n",
    "        if nodes[i].final_bool == False : \n",
    "            edges.append(Edge(i, \"r_succ\",None, i, i+1))\n",
    "        else:\n",
    "            edges.append(Edge(i, \"r_succ\",None, i, -2))\n",
    "   \n",
    "    graph = Graph(nodes, edges)\n",
    "    nodes_id = list(range(length))\n",
    "    edges_id = list((range(-1, length-1)))+[-2]\n",
    "    \n",
    "    return graph, [nodes_id, edges_id]\n"
   ]
  },
  {
   "cell_type": "code",
   "execution_count": 46,
   "id": "01052a84",
   "metadata": {},
   "outputs": [
    {
     "name": "stdout",
     "output_type": "stream",
     "text": [
      "Veuillez entrer une phrase à étudier :\n",
      "\n",
      "vache lait\n",
      "<__main__.Graph object at 0x000001C33EE34640>\n"
     ]
    }
   ],
   "source": [
    "test = Node(\"test\", 0, 1, 2, False)\n",
    "length = 3\n",
    "graphe, [nid, eid] = create_graph(cleaning_sentence())\n",
    "\n",
    "#Attention il faut modifier le poids donner dans create graph aux Edege "
   ]
  },
  {
   "cell_type": "markdown",
   "id": "c1a588d1",
   "metadata": {},
   "source": [
    "Extrait de l'ancien projet inférences"
   ]
  },
  {
   "cell_type": "code",
   "execution_count": null,
   "id": "748a21ae",
   "metadata": {},
   "outputs": [],
   "source": [
    "\n",
    "    #On demande les arguments à l'utilisation et on vérifie s'ils existent'\n",
    "    relation_id = None \n",
    "    terme1_id = '' \n",
    "    terme2_id = ''\n",
    "\n",
    "    while relation_id == None or terme1_id == '' or terme2_id == '' :\n",
    "      print(\"Veuillez entrer dans l'ordre un terme, une relation et enfin un terme !\\n Exemple : pigeon r_agent-1 voler\\n\")\n",
    "      a = input()\n",
    "\n",
    "      a_total = a.split()\n",
    "      terme1 = \"\"\n",
    "      terme2 = \"\"\n",
    "      relation = None \n",
    "\n",
    "      for element in a_total:\n",
    "        if element.find(\"r_\") == -1 and relation == None : \n",
    "          if terme1 == \"\":\n",
    "            terme1 = element \n",
    "          else : \n",
    "            terme1 = terme1 + \" \" + element\n",
    "        elif element.find(\"r_\") == -1 :\n",
    "          if terme2 == \"\":\n",
    "            terme2 = element \n",
    "          else : \n",
    "            terme2 = terme2 + \" \"+ element \n",
    "        else :\n",
    "          relation = element\n",
    "\n",
    "      e1 = enregistrementFichier(terme1)\n",
    "      e2 = enregistrementFichier(terme2)\n",
    "\n",
    "      relation_id = get_id(relation)\n",
    "      if e1 == '' or e2 == '':\n",
    "            terme1 = e1\n",
    "            terme2 = e2\n",
    "      else :\n",
    "          terme1_id = correspondanceMotId(terme1)\n",
    "          terme2_id = correspondanceMotId(terme2)\n",
    "\n",
    "      if relation_id == None : \n",
    "        print(\"La relation entrée n'existe pas.\\n\")\n",
    "      elif terme1_id == '' : \n",
    "        print(\"Le premier terme ne se trouve pas sur jeux de mots. \\n\")\n",
    "      elif terme2_id == '' :\n",
    "        print(\"Le second terme ne se trouve pas sur jeux de mots.\\n\")\n",
    "\n",
    "    arrangement = relation_arrangement(terme1, terme2, relation)\n",
    "    if arrangement != None : \n",
    "      terme1 = arrangement[0]\n",
    "      terme2 = arrangement[1]\n",
    "      relation_origine = relation\n",
    "      relation = arrangement[2]\n",
    "\n",
    "    #on enregistre sur un fichier si cela n'a pas deja été fait \n",
    "\n",
    "\n",
    "    #Menu de choix proposés à l'utilisateur\n",
    "    choix = None \n",
    "    result = None \n",
    "    while choix == None :\n",
    "      print(\"Tapez le chiffre du type de l'inférence que vous voulez tester : \\n1 : Déductive\\n2 : Inductive\\n3 : Transitive\\n\")\n",
    "      choix = input()\n",
    "      result = choixInferences(choix, terme1, terme2, relation)\n",
    "      if result == None : \n",
    "        choix = None \n",
    "\n",
    "    #si result est un tableau alors il n'a pas trouvé d'inférence justifiant la relation  \n",
    "    if type(result) == type([]):\n",
    "\n",
    "      #Affichage du résultat obtenu\n",
    "      print(\"Nous n'avons pas trouvé une inférence qui affirmait la relation proposée, donc nous pensons qu'elle est fausse.\")\n",
    "\n",
    "      #dans le cas où il a étudié des mot \n",
    "      if result[0] != []:\n",
    "        print(\"Nous n'avons pas trouvé que la relation fonctionnait pour les mots suivants : \")\n",
    "        for i in result[0]: \n",
    "          print(\"- \"+i)\n",
    "      #le nombre d'itération a atteint sa limite\n",
    "      else :\n",
    "        print(\"Aucun des mots les plus proches au mot choisi n'avait la relation correcte.\")\n",
    "\n",
    "      #On peut voir si on arrive à trouver une solution avec les variantes puis le synonyme \n",
    "      if result[1] != [] or result[2] != None:\n",
    "\n",
    "        print(\"Voulez-vous une recherche approfondie (O pour oui) ?\")\n",
    "        lettre_choix = input()\n",
    "\n",
    "        if lettre_choix == 'O' or lettre_choix == 'o' : \n",
    "          #on fait une recherche avec les variantes et synonymes obtenues et stockés dans result \n",
    "          #c'est seulement possible pour le terme1 car on a stockés ses données en même temps que la première recherche de relation \n",
    "          #or il n'y a pas de recherche de relation pour le terme2 \n",
    "\n",
    "          #on commence par les variantes \n",
    "          result2 = None\n",
    "          motResult = None \n",
    "\n",
    "          for i in result[1] : \n",
    "              result2 = choixInferences(choix, i, terme2, relation)\n",
    "\n",
    "              if type(result2) != type([]):\n",
    "                motResult = i\n",
    "                break\n",
    "\n",
    "          #s'il n' y avait pas de variante ou que les variantes n'ont pas abouti à un vrai ET qu'il existe un synonyme \n",
    "          if (result2 == None or type(result2) == type([])) and result[2] != None : \n",
    "              result2 = choixInferences(choix, result[2], terme2, relation)\n",
    "\n",
    "          #Affichage du résultat obtenu\n",
    "          if type(result2) != type([]):\n",
    "            #Affichage du mot variant ou synonyme \n",
    "            if motResult == None : \n",
    "              print(\"L'inférence a fonctionné pour le synonyme : \"+result[2]+\" du mot \"+terme1)\n",
    "            else : \n",
    "              print(\"L'inférence a fonctionné pour la variante : \"+motResult+\" du mot \"+terme1)\n",
    "\n",
    "            print(result2)\n",
    "            if arrangement != None : \n",
    "              print('On peut donc conclure que : '+terme2+\" \"+relation_origine+\" \"+terme1+\" est vraie.\")  \n",
    "\n",
    "          else : \n",
    "            #Affichage du résultat obtenu\n",
    "            print(\"Nous n'avons toujours pas trouvé une inférence qui affirmait la relation proposée, donc nous la considérons fausse.\")\n",
    "\n",
    "            if( result[1] != []):\n",
    "              print(\"Nous avons pourtant essayé avec les variantes du mot suivantes : \\n\")\n",
    "              for i in result[1]: \n",
    "                print(\"- \"+i)\n",
    "            elif (result[2] != None):\n",
    "              print(\"Nous avons essayé avec le synonyme du mot : \"+result[2]+\"\\n\")\n",
    "\n",
    "    else : \n",
    "      print(result)\n",
    "      if arrangement != None : \n",
    "        print('On peut donc conclure que : '+terme2+\" \"+relation_origine+\" \"+terme1+\" est vraie.\")  \n",
    "\n",
    "\n",
    "    print(\"\\nA bientôt !\\n\")"
   ]
  }
 ],
 "metadata": {
  "kernelspec": {
   "display_name": "Python 3 (ipykernel)",
   "language": "python",
   "name": "python3"
  },
  "language_info": {
   "codemirror_mode": {
    "name": "ipython",
    "version": 3
   },
   "file_extension": ".py",
   "mimetype": "text/x-python",
   "name": "python",
   "nbconvert_exporter": "python",
   "pygments_lexer": "ipython3",
   "version": "3.9.7"
  }
 },
 "nbformat": 4,
 "nbformat_minor": 5
}
